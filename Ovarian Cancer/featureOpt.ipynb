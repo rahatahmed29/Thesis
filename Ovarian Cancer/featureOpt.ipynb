{
 "cells": [
  {
   "cell_type": "code",
   "execution_count": null,
   "id": "8f64fb11",
   "metadata": {},
   "outputs": [],
   "source": [
    "# Cell 1: Import Libraries\n",
    "import pandas as pd\n",
    "import numpy as np\n",
    "from sklearn.preprocessing import StandardScaler\n",
    "from sklearn.model_selection import train_test_split, cross_val_score\n",
    "from sklearn.ensemble import RandomForestClassifier\n",
    "from sklearn.metrics import classification_report, confusion_matrix\n",
    "from mealpy.swarm_based.PSO import OriginalPSO\n",
    "import matplotlib.pyplot as plt\n",
    "\n",
    "# Set random seed for reproducibility\n",
    "np.random.seed(42)\n",
    "\n"
   ]
  },
  {
   "cell_type": "code",
   "execution_count": null,
   "id": "12f3f863",
   "metadata": {},
   "outputs": [],
   "source": [
    "# 2. Load and Explore Dataset\n",
    "\n",
    "# Load dataset\n",
    "df = pd.read_csv(\"../Datasets/ovariantotal.csv\")\n",
    "\n",
    "# Display basic info\n",
    "print(\"Dataset shape:\", df.shape)\n",
    "print(\"\\nFirst 5 rows:\")\n",
    "display(df.head())\n",
    "\n",
    "print(\"\\nClass distribution:\")\n",
    "print(df['TYPE'].value_counts())\n"
   ]
  },
  {
   "cell_type": "code",
   "execution_count": null,
   "id": "0142b719",
   "metadata": {},
   "outputs": [],
   "source": [
    "#3. Preprocess Data\n",
    "\n",
    "# Separate features and target\n",
    "X = df.drop(columns=['TYPE'])\n",
    "y = df['TYPE']\n",
    "\n",
    "# Standardize features\n",
    "scaler = StandardScaler()\n",
    "X_scaled = scaler.fit_transform(X)\n",
    "\n",
    "# Train-test split\n",
    "X_train, X_test, y_train, y_test = train_test_split(\n",
    "    X_scaled, y, test_size=0.2, random_state=42)\n",
    "\n",
    "print(f\"Training set: {X_train.shape}, Test set: {X_test.shape}\")\n"
   ]
  },
  {
   "cell_type": "code",
   "execution_count": null,
   "id": "37f20ab4",
   "metadata": {},
   "outputs": [],
   "source": [
    "#4. Define Fitness Function\n",
    "\n",
    "def feature_selection_fitness(solution):\n",
    "    # Convert continuous solution to binary (threshold at 0.5)\n",
    "    binary_solution = (np.array(solution) > 0.5).astype(int)\n",
    "    \n",
    "    # Penalize if no features are selected\n",
    "    if np.sum(binary_solution) == 0:\n",
    "        return 1.0  # Worst possible error\n",
    "    \n",
    "    # Select features and evaluate\n",
    "    selected_X = X_train[:, binary_solution == 1]\n",
    "    model = RandomForestClassifier(n_estimators=100, random_state=42)\n",
    "    scores = cross_val_score(model, selected_X, y_train, cv=5, scoring='accuracy')\n",
    "    \n",
    "    return 1 - np.mean(scores)  # Return error (to minimize)\n"
   ]
  },
  {
   "cell_type": "code",
   "execution_count": null,
   "id": "e66c0879",
   "metadata": {},
   "outputs": [],
   "source": [
    "#5. Setup PSO Optimization\n",
    "\n",
    "problem = {\n",
    "    \"fit_func\": feature_selection_fitness,  # Fitness function\n",
    "    \"lb\": [0] * X_train.shape[1],          # Lower bounds (0 for all features)\n",
    "    \"ub\": [1] * X_train.shape[1],          # Upper bounds (1 for all features)\n",
    "    \"minmax\": \"min\",                       # Minimize the fitness\n",
    "    \"log_to\": None                         # Disable logging\n",
    "}\n",
    "\n",
    "# Initialize PSO\n",
    "pso_model = OriginalPSO(\n",
    "    epoch=50,           # Number of iterations\n",
    "    pop_size=20,        # Population size (number of particles)\n",
    "    c1=2.0,             # Cognitive factor\n",
    "    c2=2.0,             # Social factor\n",
    "    w_min=0.4,          # Minimum inertia weight\n",
    "    w_max=0.9           # Maximum inertia weight\n",
    ")\n"
   ]
  },
  {
   "cell_type": "code",
   "execution_count": null,
   "id": "748a8d8e",
   "metadata": {},
   "outputs": [],
   "source": [
    "best_position, best_fitness = pso_model.solve(problem)\n"
   ]
  },
  {
   "cell_type": "code",
   "execution_count": null,
   "id": "e36e6da0",
   "metadata": {},
   "outputs": [],
   "source": [
    "#7. Analyze Results\n",
    "\n",
    "# Get selected features (binary conversion)\n",
    "selected_features = (np.array(best_position) > 0.5).astype(int)\n",
    "selected_indices = np.where(selected_features == 1)[0]\n",
    "selected_feature_names = X.columns[selected_indices]\n",
    "\n",
    "print(\"✅ Selected Features:\", list(selected_feature_names))\n",
    "print(\"🔍 Number of Features Selected:\", len(selected_feature_names))\n",
    "print(\"📉 Best Error (1 - accuracy):\", best_fitness)\n",
    "print(\"📈 Final CV Accuracy:\", 1 - best_fitness)\n",
    "\n",
    "# Plot feature importance scores\n",
    "plt.figure(figsize=(10, 5))\n",
    "plt.bar(range(len(best_position)), best_position)\n",
    "plt.axhline(y=0.5, color='r', linestyle='--')\n",
    "plt.title(\"PSO Feature Importance Scores\")\n",
    "plt.xlabel(\"Feature Index\")\n",
    "plt.ylabel(\"Selection Score\")\n",
    "plt.show()"
   ]
  },
  {
   "cell_type": "code",
   "execution_count": null,
   "id": "9f053cf2",
   "metadata": {},
   "outputs": [],
   "source": [
    "#8. Evaluate on Test Set\n",
    "\n",
    "# Prepare selected features\n",
    "X_train_selected = X_train[:, selected_features == 1]\n",
    "X_test_selected = X_test[:, selected_features == 1]\n",
    "\n",
    "# Train final model\n",
    "final_model = RandomForestClassifier(n_estimators=100, random_state=42)\n",
    "final_model.fit(X_train_selected, y_train)\n",
    "\n",
    "# Evaluate\n",
    "test_accuracy = final_model.score(X_test_selected, y_test)\n",
    "print(\"🏁 Test Accuracy:\", test_accuracy)\n",
    "\n",
    "# Plot feature importances from final model\n",
    "importances = final_model.feature_importances_\n",
    "plt.figure(figsize=(10, 4))\n",
    "plt.bar(selected_feature_names, importances)\n",
    "plt.xticks(rotation=45, ha=\"right\")\n",
    "plt.title(\"Random Forest Feature Importances\")\n",
    "plt.tight_layout()\n",
    "plt.show()"
   ]
  },
  {
   "cell_type": "code",
   "execution_count": null,
   "id": "538230c7",
   "metadata": {},
   "outputs": [],
   "source": [
    "\n",
    "y_pred = final_model.predict(X_test_selected)\n",
    "print(confusion_matrix(y_test, y_pred))\n",
    "print(classification_report(y_test, y_pred))\n"
   ]
  }
 ],
 "metadata": {
  "kernelspec": {
   "display_name": "Python 3",
   "language": "python",
   "name": "python3"
  },
  "language_info": {
   "codemirror_mode": {
    "name": "ipython",
    "version": 3
   },
   "file_extension": ".py",
   "mimetype": "text/x-python",
   "name": "python",
   "nbconvert_exporter": "python",
   "pygments_lexer": "ipython3",
   "version": "3.11.0"
  }
 },
 "nbformat": 4,
 "nbformat_minor": 5
}
