{
 "cells": [
  {
   "cell_type": "code",
   "execution_count": null,
   "id": "2bb98840",
   "metadata": {},
   "outputs": [
    {
     "name": "stdout",
     "output_type": "stream",
     "text": [
      "['Male' 'Female' 'Child']\n",
      "0\n",
      "   Sex\n",
      "0    0\n",
      "1    0\n",
      "2    1\n",
      "3    1\n",
      "4    1\n",
      "Index(['Age', 'Sex', 'Haemoglobin', 'WBC Count', 'Differential Count',\n",
      "       'RBC PANEL', 'Platelet Count', 'PDW', 'target'],\n",
      "      dtype='object')\n"
     ]
    }
   ],
   "source": [
    "import pandas as pd\n",
    "data=pd.read_csv(\"../Datasets/dengue.csv\")\n",
    "print(data['Sex'].unique())\n",
    "data['Sex'] = data['Sex'].map({'Male': 0, 'Female': 1, 'Child': 2})\n",
    "print(data['Sex'].isna().sum())\n",
    "print(data[['Sex']].head())\n"
   ]
  },
  {
   "cell_type": "code",
   "execution_count": null,
   "id": "370ea8b3",
   "metadata": {},
   "outputs": [],
   "source": [
    "print('Missing values:', data.isnull().sum())\n",
    "data=data.fillna(data.mean(numeric_only=True))"
   ]
  },
  {
   "cell_type": "code",
   "execution_count": null,
   "id": "b7497084",
   "metadata": {},
   "outputs": [],
   "source": [
    "X=data.drop('target',axis=1)\n",
    "y=data['target']\n",
    "y = data['target'].astype(int)  # 👈 ensure it's integer, not float\n",
    "print(y)"
   ]
  },
  {
   "cell_type": "code",
   "execution_count": null,
   "id": "b818d4be",
   "metadata": {},
   "outputs": [],
   "source": [
    "from sklearn.model_selection import train_test_split\n",
    "print(y.unique())\n",
    "print(y.dtype)\n",
    "X_train,X_test,y_train,y_test=train_test_split(X,y,test_size=0.3,random_state=42)"
   ]
  },
  {
   "cell_type": "code",
   "execution_count": null,
   "id": "9d8dc4e9",
   "metadata": {},
   "outputs": [
    {
     "name": "stdout",
     "output_type": "stream",
     "text": [
      "Train Accuracy: 1.0\n",
      "Test Accuracy : 0.9900332225913622\n"
     ]
    }
   ],
   "source": [
    "from sklearn.ensemble import RandomForestClassifier\n",
    "model=RandomForestClassifier(random_state=42 )\n",
    "model.fit(X_train,y_train)\n"
   ]
  },
  {
   "cell_type": "code",
   "execution_count": null,
   "id": "69693c06",
   "metadata": {},
   "outputs": [],
   "source": [
    "y_pred=model.predict(X_test)"
   ]
  },
  {
   "cell_type": "code",
   "execution_count": null,
   "id": "0c42fb4c",
   "metadata": {},
   "outputs": [],
   "source": [
    "from sklearn.metrics import accuracy_score,classification_report,confusion_matrix\n",
    "print('Accuracy:',accuracy_score(y_test,y_pred))\n",
    "print('Classification Report\\n:',classification_report(y_test,y_pred))\n",
    "print('Confusion Matrix\\n:',confusion_matrix(y_test,y_pred))"
   ]
  }
 ],
 "metadata": {
  "kernelspec": {
   "display_name": "Python 3",
   "language": "python",
   "name": "python3"
  },
  "language_info": {
   "codemirror_mode": {
    "name": "ipython",
    "version": 3
   },
   "file_extension": ".py",
   "mimetype": "text/x-python",
   "name": "python",
   "nbconvert_exporter": "python",
   "pygments_lexer": "ipython3",
   "version": "3.13.2"
  }
 },
 "nbformat": 4,
 "nbformat_minor": 5
}
