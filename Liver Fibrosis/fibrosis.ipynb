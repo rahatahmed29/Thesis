{
 "cells": [
  {
   "cell_type": "code",
   "execution_count": null,
   "id": "044d185d",
   "metadata": {},
   "outputs": [],
   "source": [
    "import pandas as pd\n",
    "data=pd.read_excel(\"../Datasets/Cholecystectomy.xlsx\")\n",
    "data.head()"
   ]
  },
  {
   "cell_type": "code",
   "execution_count": null,
   "id": "13b8e595",
   "metadata": {},
   "outputs": [],
   "source": [
    "print('Shape of data:', data.shape)\n",
    "print('Column names:', data.columns)\n",
    "print('Missing values:', data.isnull().sum())"
   ]
  },
  {
   "cell_type": "code",
   "execution_count": null,
   "id": "37194101",
   "metadata": {},
   "outputs": [],
   "source": [
    "data=data.fillna(data.mean(numeric_only=True))"
   ]
  },
  {
   "cell_type": "code",
   "execution_count": null,
   "id": "52d63c08",
   "metadata": {},
   "outputs": [],
   "source": [
    "X=data.drop('Fibrosis stage', axis=1)\n",
    "y=data['Fibrosis stage']"
   ]
  },
  {
   "cell_type": "code",
   "execution_count": null,
   "id": "85f5f7f3",
   "metadata": {},
   "outputs": [],
   "source": [
    "from sklearn.model_selection import train_test_split\n",
    "X_train, X_test,y_train,y_test=train_test_split(X,y,test_size=0.3,random_state=42)"
   ]
  },
  {
   "cell_type": "code",
   "execution_count": null,
   "id": "9cd99650",
   "metadata": {},
   "outputs": [],
   "source": [
    "from sklearn.ensemble import RandomForestClassifier\n",
    "model=RandomForestClassifier(random_state=42)\n",
    "model.fit(X_train,y_train)"
   ]
  },
  {
   "cell_type": "code",
   "execution_count": null,
   "id": "5dc5167f",
   "metadata": {},
   "outputs": [],
   "source": [
    "y_pred=model.predict(X_test)"
   ]
  },
  {
   "cell_type": "code",
   "execution_count": null,
   "id": "d0ad7d15",
   "metadata": {},
   "outputs": [],
   "source": [
    "from sklearn.metrics import accuracy_score,classification_report,confusion_matrix\n",
    "print('Accuracy:' ,accuracy_score(y_test,y_pred))\n",
    "print('Classification Report:\\n',classification_report(y_test,y_pred))\n",
    "print('Confusion Matrix:\\n',confusion_matrix (y_test,y_pred))"
   ]
  }
 ],
 "metadata": {
  "kernelspec": {
   "display_name": "Python 3",
   "language": "python",
   "name": "python3"
  },
  "language_info": {
   "codemirror_mode": {
    "name": "ipython",
    "version": 3
   },
   "file_extension": ".py",
   "mimetype": "text/x-python",
   "name": "python",
   "nbconvert_exporter": "python",
   "pygments_lexer": "ipython3",
   "version": "3.13.2"
  }
 },
 "nbformat": 4,
 "nbformat_minor": 5
}
