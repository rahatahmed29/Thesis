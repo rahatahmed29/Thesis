{
 "cells": [
  {
   "cell_type": "code",
   "execution_count": 1,
   "id": "b053f87c",
   "metadata": {},
   "outputs": [
    {
     "name": "stdout",
     "output_type": "stream",
     "text": [
      "Missing values: Age                         0\n",
      "Gender                      0\n",
      "Heart rate                  0\n",
      "Systolic blood pressure     0\n",
      "Diastolic blood pressure    0\n",
      "Blood sugar                 0\n",
      "CK-MB                       0\n",
      "Troponin                    0\n",
      "Result                      0\n",
      "dtype: int64\n",
      "Accuracy: 0.9797979797979798\n",
      "Classification Report\n",
      ":               precision    recall  f1-score   support\n",
      "\n",
      "    negative       0.98      0.97      0.97       155\n",
      "    positive       0.98      0.99      0.98       241\n",
      "\n",
      "    accuracy                           0.98       396\n",
      "   macro avg       0.98      0.98      0.98       396\n",
      "weighted avg       0.98      0.98      0.98       396\n",
      "\n",
      "Confusion Matrix\n",
      ": [[150   5]\n",
      " [  3 238]]\n"
     ]
    }
   ],
   "source": [
    "import pandas as pd\n",
    "data=pd.read_csv(\"../Datasets/medicaldataset.csv\")\n",
    "data.head()\n",
    "print('Missing values:', data.isnull().sum())\n",
    "data=data.fillna(data.mean(numeric_only=True))\n",
    "\n",
    "\n",
    "X=data.drop('Result',axis=1)\n",
    "y=data['Result']\n",
    "from sklearn.model_selection import train_test_split\n",
    "X_train,X_test,y_train,y_test=train_test_split(X,y,test_size=0.3,random_state=42)\n",
    "from sklearn.ensemble import RandomForestClassifier\n",
    "model=RandomForestClassifier(random_state=42 )\n",
    "model.fit(X_train,y_train)\n",
    "y_pred=model.predict(X_test)\n",
    "from sklearn.metrics import accuracy_score,classification_report,confusion_matrix\n",
    "print('Accuracy:',accuracy_score(y_test,y_pred))\n",
    "print('Classification Report\\n:',classification_report(y_test,y_pred))\n",
    "print('Confusion Matrix\\n:',confusion_matrix(y_test,y_pred))"
   ]
  }
 ],
 "metadata": {
  "kernelspec": {
   "display_name": "Python 3",
   "language": "python",
   "name": "python3"
  },
  "language_info": {
   "codemirror_mode": {
    "name": "ipython",
    "version": 3
   },
   "file_extension": ".py",
   "mimetype": "text/x-python",
   "name": "python",
   "nbconvert_exporter": "python",
   "pygments_lexer": "ipython3",
   "version": "3.11.0"
  }
 },
 "nbformat": 4,
 "nbformat_minor": 5
}
