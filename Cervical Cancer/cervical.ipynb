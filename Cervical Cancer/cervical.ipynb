{
 "cells": [
  {
   "cell_type": "code",
   "execution_count": null,
   "id": "eff2a111",
   "metadata": {},
   "outputs": [],
   "source": [
    "# data read\n",
    "import pandas as pd\n",
    "data=pd.read_csv(\"../Datasets/cervical.csv\",na_values='?')\n",
    "data.head()"
   ]
  },
  {
   "cell_type": "code",
   "execution_count": null,
   "id": "8ae5b237",
   "metadata": {},
   "outputs": [],
   "source": [
    "print('Shape of data:',data.shape)\n",
    "print('Column names:',data.columns)\n",
    "for column in data.columns:\n",
    "    data[column] = pd.to_numeric(data[column], errors='coerce')\n"
   ]
  },
  {
   "cell_type": "code",
   "execution_count": null,
   "id": "dd1442ec",
   "metadata": {},
   "outputs": [],
   "source": [
    "# filling the missing values\n",
    "data=data.fillna(data.mean(numeric_only=True))\n",
    "print(data.dtypes)\n",
    "print('Missing values:',data.isnull().sum())\n",
    "\n"
   ]
  },
  {
   "cell_type": "code",
   "execution_count": null,
   "id": "16f5533a",
   "metadata": {},
   "outputs": [],
   "source": [
    "# Setting target and features columns \n",
    "X=data.drop('Biopsy',axis=1)\n",
    "y=data['Biopsy']"
   ]
  },
  {
   "cell_type": "code",
   "execution_count": null,
   "id": "f0f39cd2",
   "metadata": {},
   "outputs": [],
   "source": [
    "# splitting data into train and test sets \n",
    "from sklearn.model_selection import train_test_split\n",
    "X_train,X_test,y_train,y_test=train_test_split(X,y,test_size=0.3,random_state=42)\n"
   ]
  },
  {
   "cell_type": "code",
   "execution_count": null,
   "id": "bee70d04",
   "metadata": {},
   "outputs": [],
   "source": [
    "# Training the random forest model\n",
    "from sklearn.ensemble import RandomForestClassifier\n",
    "model=RandomForestClassifier(random_state=42)\n",
    "model.fit(X_train,y_train)\n"
   ]
  },
  {
   "cell_type": "code",
   "execution_count": null,
   "id": "70fd259e",
   "metadata": {},
   "outputs": [],
   "source": [
    "# Predicting cervical cancer\n",
    "y_pred=model.predict(X_test)"
   ]
  },
  {
   "cell_type": "code",
   "execution_count": 30,
   "id": "021796e8",
   "metadata": {},
   "outputs": [
    {
     "name": "stdout",
     "output_type": "stream",
     "text": [
      "Accuracy: 0.9534883720930233\n",
      "Classification Report:\n",
      "               precision    recall  f1-score   support\n",
      "\n",
      "           0       0.96      0.99      0.98       243\n",
      "           1       0.71      0.33      0.45        15\n",
      "\n",
      "    accuracy                           0.95       258\n",
      "   macro avg       0.84      0.66      0.72       258\n",
      "weighted avg       0.95      0.95      0.95       258\n",
      "\n",
      "Confusion Matrix:\n",
      " [[241   2]\n",
      " [ 10   5]]\n"
     ]
    }
   ],
   "source": [
    "# Evaluating the model\n",
    "from sklearn.metrics import accuracy_score,classification_report,confusion_matrix\n",
    "print('Accuracy:', accuracy_score(y_test,y_pred))\n",
    "print('Classification Report:\\n', classification_report(y_test,y_pred))\n",
    "print('Confusion Matrix:\\n', confusion_matrix(y_test,y_pred))"
   ]
  }
 ],
 "metadata": {
  "kernelspec": {
   "display_name": "Python 3",
   "language": "python",
   "name": "python3"
  },
  "language_info": {
   "codemirror_mode": {
    "name": "ipython",
    "version": 3
   },
   "file_extension": ".py",
   "mimetype": "text/x-python",
   "name": "python",
   "nbconvert_exporter": "python",
   "pygments_lexer": "ipython3",
   "version": "3.13.2"
  }
 },
 "nbformat": 4,
 "nbformat_minor": 5
}
